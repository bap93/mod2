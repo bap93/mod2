{
 "cells": [
  {
   "cell_type": "markdown",
   "id": "cac5526d-b992-42de-842d-c8b23550d14b",
   "metadata": {},
   "source": [
    "# 4.1\n"
   ]
  },
  {
   "cell_type": "code",
   "execution_count": 22,
   "id": "c9b2c72a-da63-4352-81f7-3ef95a78d834",
   "metadata": {},
   "outputs": [
    {
     "name": "stdout",
     "output_type": "stream",
     "text": [
      "too low\n"
     ]
    }
   ],
   "source": [
    "secret = 4\n",
    "guess = 2\n",
    "\n",
    "if guess < secret:\n",
    "    print(\"too low\")\n",
    "elif guess > secret:\n",
    "    print(\"too high\")\n",
    "else:\n",
    "    print(\"just right\")"
   ]
  },
  {
   "cell_type": "markdown",
   "id": "aa193956-9c02-4e0f-8986-9aab5364ed05",
   "metadata": {},
   "source": [
    "# 4.2 "
   ]
  },
  {
   "cell_type": "code",
   "execution_count": 11,
   "id": "a75a854e-8a44-4917-9e02-12e5c2320896",
   "metadata": {},
   "outputs": [
    {
     "name": "stdout",
     "output_type": "stream",
     "text": [
      "watermelon\n"
     ]
    }
   ],
   "source": [
    "small = False\n",
    "green = True\n",
    "\n",
    "if small and green:\n",
    "    print(\"pea\")\n",
    "elif not small and green:\n",
    "    print(\"watermelon\")\n",
    "elif small and not green:\n",
    "    print(\"cherry\")\n",
    "elif not small and not green:\n",
    "    print(\"pumpkin\")\n",
    "else:\n",
    "    print(\"Who knows!\")"
   ]
  },
  {
   "cell_type": "markdown",
   "id": "79aa3ee4-9f8b-4c32-bd2a-c91f64bca1e9",
   "metadata": {},
   "source": [
    "# 6.1"
   ]
  },
  {
   "cell_type": "code",
   "execution_count": 13,
   "id": "ba611a37-c881-40b1-adbe-ab92e62ec696",
   "metadata": {},
   "outputs": [
    {
     "name": "stdout",
     "output_type": "stream",
     "text": [
      "3\n",
      "2\n",
      "1\n",
      "0\n"
     ]
    }
   ],
   "source": [
    "our_list = [3,2,1,0]\n",
    "\n",
    "for value in our_list:\n",
    "    print(value)"
   ]
  },
  {
   "cell_type": "markdown",
   "id": "d1f3c1fd-535e-4a41-8842-8519073b83af",
   "metadata": {},
   "source": [
    "# 6.2"
   ]
  },
  {
   "cell_type": "code",
   "execution_count": 21,
   "id": "0f4ec858-d643-4244-ac42-eb59d3e52795",
   "metadata": {},
   "outputs": [
    {
     "name": "stdout",
     "output_type": "stream",
     "text": [
      "too low\n",
      "too low\n",
      "too low\n",
      "too low\n",
      "too low\n",
      "too low\n",
      "found it!\n"
     ]
    }
   ],
   "source": [
    "guess_me = 7\n",
    "number = 1\n",
    "\n",
    "while True:\n",
    "   \n",
    "    if number < guess_me:\n",
    "        print(\"too low\")\n",
    "    elif number > guess_me:\n",
    "        print(\"oops\")\n",
    "        break\n",
    "    else: \n",
    "        print(\"found it!\")\n",
    "        break\n",
    "    number = number + 1\n",
    "    "
   ]
  },
  {
   "cell_type": "markdown",
   "id": "718a7a0f-8aa0-422e-be58-ea732e25173a",
   "metadata": {},
   "source": [
    "# 6.3"
   ]
  },
  {
   "cell_type": "code",
   "execution_count": 25,
   "id": "dcd53d68-2cfb-47ae-9a48-56be79eaa15f",
   "metadata": {},
   "outputs": [
    {
     "name": "stdout",
     "output_type": "stream",
     "text": [
      "too low\n",
      "too low\n",
      "too low\n",
      "too low\n",
      "too low\n",
      "found it!\n"
     ]
    }
   ],
   "source": [
    "guess_me = 5\n",
    "\n",
    "for number in range(10):\n",
    "    if number < guess_me:\n",
    "        print(\"too low\")\n",
    "    elif number > guess_me:\n",
    "        print(\"oops\")\n",
    "        break\n",
    "    else:\n",
    "        print(\"found it!\")\n",
    "        break"
   ]
  }
 ],
 "metadata": {
  "kernelspec": {
   "display_name": "Python 3 (ipykernel)",
   "language": "python",
   "name": "python3"
  },
  "language_info": {
   "codemirror_mode": {
    "name": "ipython",
    "version": 3
   },
   "file_extension": ".py",
   "mimetype": "text/x-python",
   "name": "python",
   "nbconvert_exporter": "python",
   "pygments_lexer": "ipython3",
   "version": "3.12.7"
  }
 },
 "nbformat": 4,
 "nbformat_minor": 5
}
